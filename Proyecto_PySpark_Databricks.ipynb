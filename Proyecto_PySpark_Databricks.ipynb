{
 "cells": [
  {
   "cell_type": "code",
   "execution_count": 0,
   "metadata": {
    "application/vnd.databricks.v1+cell": {
     "cellMetadata": {
      "byteLimit": 2048000,
      "rowLimit": 10000
     },
     "inputWidgets": {},
     "nuid": "ead7ae1e-fcb5-4e05-87f9-9159f996665e",
     "showTitle": false,
     "title": ""
    }
   },
   "outputs": [
    {
     "output_type": "display_data",
     "data": {
      "text/html": [
       "<style scoped>\n",
       "  .table-result-container {\n",
       "    max-height: 300px;\n",
       "    overflow: auto;\n",
       "  }\n",
       "  table, th, td {\n",
       "    border: 1px solid black;\n",
       "    border-collapse: collapse;\n",
       "  }\n",
       "  th, td {\n",
       "    padding: 5px;\n",
       "  }\n",
       "  th {\n",
       "    text-align: left;\n",
       "  }\n",
       "</style><div class='table-result-container'><table class='table-result'><thead style='background-color: white'><tr><th>Country name</th><th>Regional indicator</th><th>Ladder score</th><th>Standard error of ladder score</th><th>upperwhisker</th><th>lowerwhisker</th><th>Logged GDP per capita</th><th>Social support</th><th>Healthy life expectancy</th><th>Freedom to make life choices</th><th>Generosity</th><th>Perceptions of corruption</th><th>Ladder score in Dystopia</th><th>Explained by: Log GDP per capita</th><th>Explained by: Social support</th><th>Explained by: Healthy life expectancy</th><th>Explained by: Freedom to make life choices</th><th>Explained by: Generosity</th><th>Explained by: Perceptions of corruption</th><th>Dystopia + residual</th></tr></thead><tbody><tr><td>Finland</td><td>Western Europe</td><td>7.842</td><td>0.032</td><td>7.904</td><td>7.78</td><td>10.775</td><td>0.954</td><td>72.0</td><td>0.949</td><td>-0.098</td><td>0.186</td><td>2.43</td><td>1.446</td><td>1.106</td><td>0.741</td><td>0.691</td><td>0.124</td><td>0.481</td><td>3.253</td></tr><tr><td>Denmark</td><td>Western Europe</td><td>7.62</td><td>0.035</td><td>7.687</td><td>7.552</td><td>10.933</td><td>0.954</td><td>72.7</td><td>0.946</td><td>0.03</td><td>0.179</td><td>2.43</td><td>1.502</td><td>1.108</td><td>0.763</td><td>0.686</td><td>0.208</td><td>0.485</td><td>2.868</td></tr><tr><td>Switzerland</td><td>Western Europe</td><td>7.571</td><td>0.036</td><td>7.643</td><td>7.5</td><td>11.117</td><td>0.942</td><td>74.4</td><td>0.919</td><td>0.025</td><td>0.292</td><td>2.43</td><td>1.566</td><td>1.079</td><td>0.816</td><td>0.653</td><td>0.204</td><td>0.413</td><td>2.839</td></tr><tr><td>Iceland</td><td>Western Europe</td><td>7.554</td><td>0.059</td><td>7.67</td><td>7.438</td><td>10.878</td><td>0.983</td><td>73.0</td><td>0.955</td><td>0.16</td><td>0.673</td><td>2.43</td><td>1.482</td><td>1.172</td><td>0.772</td><td>0.698</td><td>0.293</td><td>0.17</td><td>2.967</td></tr><tr><td>Netherlands</td><td>Western Europe</td><td>7.464</td><td>0.027</td><td>7.518</td><td>7.41</td><td>10.932</td><td>0.942</td><td>72.4</td><td>0.913</td><td>0.175</td><td>0.338</td><td>2.43</td><td>1.501</td><td>1.079</td><td>0.753</td><td>0.647</td><td>0.302</td><td>0.384</td><td>2.798</td></tr></tbody></table></div>"
      ]
     },
     "metadata": {
      "application/vnd.databricks.v1+output": {
       "addedWidgets": {},
       "aggData": [],
       "aggError": "",
       "aggOverflow": false,
       "aggSchema": [],
       "aggSeriesLimitReached": false,
       "aggType": "",
       "arguments": {},
       "columnCustomDisplayInfos": {},
       "data": [
        [
         "Finland",
         "Western Europe",
         7.842,
         0.032,
         7.904,
         7.78,
         10.775,
         0.954,
         72.0,
         0.949,
         -0.098,
         0.186,
         2.43,
         1.446,
         1.106,
         0.741,
         0.691,
         0.124,
         0.481,
         3.253
        ],
        [
         "Denmark",
         "Western Europe",
         7.62,
         0.035,
         7.687,
         7.552,
         10.933,
         0.954,
         72.7,
         0.946,
         0.03,
         0.179,
         2.43,
         1.502,
         1.108,
         0.763,
         0.686,
         0.208,
         0.485,
         2.868
        ],
        [
         "Switzerland",
         "Western Europe",
         7.571,
         0.036,
         7.643,
         7.5,
         11.117,
         0.942,
         74.4,
         0.919,
         0.025,
         0.292,
         2.43,
         1.566,
         1.079,
         0.816,
         0.653,
         0.204,
         0.413,
         2.839
        ],
        [
         "Iceland",
         "Western Europe",
         7.554,
         0.059,
         7.67,
         7.438,
         10.878,
         0.983,
         73.0,
         0.955,
         0.16,
         0.673,
         2.43,
         1.482,
         1.172,
         0.772,
         0.698,
         0.293,
         0.17,
         2.967
        ],
        [
         "Netherlands",
         "Western Europe",
         7.464,
         0.027,
         7.518,
         7.41,
         10.932,
         0.942,
         72.4,
         0.913,
         0.175,
         0.338,
         2.43,
         1.501,
         1.079,
         0.753,
         0.647,
         0.302,
         0.384,
         2.798
        ]
       ],
       "datasetInfos": [],
       "dbfsResultPath": null,
       "isJsonSchema": true,
       "metadata": {},
       "overflow": false,
       "plotOptions": {
        "customPlotOptions": {},
        "displayType": "table",
        "pivotAggregation": null,
        "pivotColumns": null,
        "xColumns": null,
        "yColumns": null
       },
       "removedWidgets": [],
       "schema": [
        {
         "metadata": "{}",
         "name": "Country name",
         "type": "\"string\""
        },
        {
         "metadata": "{}",
         "name": "Regional indicator",
         "type": "\"string\""
        },
        {
         "metadata": "{}",
         "name": "Ladder score",
         "type": "\"double\""
        },
        {
         "metadata": "{}",
         "name": "Standard error of ladder score",
         "type": "\"double\""
        },
        {
         "metadata": "{}",
         "name": "upperwhisker",
         "type": "\"double\""
        },
        {
         "metadata": "{}",
         "name": "lowerwhisker",
         "type": "\"double\""
        },
        {
         "metadata": "{}",
         "name": "Logged GDP per capita",
         "type": "\"double\""
        },
        {
         "metadata": "{}",
         "name": "Social support",
         "type": "\"double\""
        },
        {
         "metadata": "{}",
         "name": "Healthy life expectancy",
         "type": "\"double\""
        },
        {
         "metadata": "{}",
         "name": "Freedom to make life choices",
         "type": "\"double\""
        },
        {
         "metadata": "{}",
         "name": "Generosity",
         "type": "\"double\""
        },
        {
         "metadata": "{}",
         "name": "Perceptions of corruption",
         "type": "\"double\""
        },
        {
         "metadata": "{}",
         "name": "Ladder score in Dystopia",
         "type": "\"double\""
        },
        {
         "metadata": "{}",
         "name": "Explained by: Log GDP per capita",
         "type": "\"double\""
        },
        {
         "metadata": "{}",
         "name": "Explained by: Social support",
         "type": "\"double\""
        },
        {
         "metadata": "{}",
         "name": "Explained by: Healthy life expectancy",
         "type": "\"double\""
        },
        {
         "metadata": "{}",
         "name": "Explained by: Freedom to make life choices",
         "type": "\"double\""
        },
        {
         "metadata": "{}",
         "name": "Explained by: Generosity",
         "type": "\"double\""
        },
        {
         "metadata": "{}",
         "name": "Explained by: Perceptions of corruption",
         "type": "\"double\""
        },
        {
         "metadata": "{}",
         "name": "Dystopia + residual",
         "type": "\"double\""
        }
       ],
       "type": "table"
      }
     },
     "output_type": "display_data"
    },
    {
     "output_type": "display_data",
     "data": {
      "text/html": [
       "<style scoped>\n",
       "  .table-result-container {\n",
       "    max-height: 300px;\n",
       "    overflow: auto;\n",
       "  }\n",
       "  table, th, td {\n",
       "    border: 1px solid black;\n",
       "    border-collapse: collapse;\n",
       "  }\n",
       "  th, td {\n",
       "    padding: 5px;\n",
       "  }\n",
       "  th {\n",
       "    text-align: left;\n",
       "  }\n",
       "</style><div class='table-result-container'><table class='table-result'><thead style='background-color: white'><tr><th>Country name</th><th>year</th><th>Life Ladder</th><th>Log GDP per capita</th><th>Social support</th><th>Healthy life expectancy at birth</th><th>Freedom to make life choices</th><th>Generosity</th><th>Perceptions of corruption</th><th>Positive affect</th><th>Negative affect</th></tr></thead><tbody><tr><td>Afghanistan</td><td>2008</td><td>3.724</td><td>7.37</td><td>0.451</td><td>50.8</td><td>0.718</td><td>0.168</td><td>0.882</td><td>0.518</td><td>0.258</td></tr><tr><td>Afghanistan</td><td>2009</td><td>4.402</td><td>7.54</td><td>0.552</td><td>51.2</td><td>0.679</td><td>0.19</td><td>0.85</td><td>0.584</td><td>0.237</td></tr><tr><td>Afghanistan</td><td>2010</td><td>4.758</td><td>7.647</td><td>0.539</td><td>51.6</td><td>0.6</td><td>0.121</td><td>0.707</td><td>0.618</td><td>0.275</td></tr><tr><td>Afghanistan</td><td>2011</td><td>3.832</td><td>7.62</td><td>0.521</td><td>51.92</td><td>0.496</td><td>0.162</td><td>0.731</td><td>0.611</td><td>0.267</td></tr><tr><td>Afghanistan</td><td>2012</td><td>3.783</td><td>7.705</td><td>0.521</td><td>52.24</td><td>0.531</td><td>0.236</td><td>0.776</td><td>0.71</td><td>0.268</td></tr></tbody></table></div>"
      ]
     },
     "metadata": {
      "application/vnd.databricks.v1+output": {
       "addedWidgets": {},
       "aggData": [],
       "aggError": "",
       "aggOverflow": false,
       "aggSchema": [],
       "aggSeriesLimitReached": false,
       "aggType": "",
       "arguments": {},
       "columnCustomDisplayInfos": {},
       "data": [
        [
         "Afghanistan",
         2008,
         3.724,
         7.37,
         0.451,
         50.8,
         0.718,
         0.168,
         0.882,
         0.518,
         0.258
        ],
        [
         "Afghanistan",
         2009,
         4.402,
         7.54,
         0.552,
         51.2,
         0.679,
         0.19,
         0.85,
         0.584,
         0.237
        ],
        [
         "Afghanistan",
         2010,
         4.758,
         7.647,
         0.539,
         51.6,
         0.6,
         0.121,
         0.707,
         0.618,
         0.275
        ],
        [
         "Afghanistan",
         2011,
         3.832,
         7.62,
         0.521,
         51.92,
         0.496,
         0.162,
         0.731,
         0.611,
         0.267
        ],
        [
         "Afghanistan",
         2012,
         3.783,
         7.705,
         0.521,
         52.24,
         0.531,
         0.236,
         0.776,
         0.71,
         0.268
        ]
       ],
       "datasetInfos": [],
       "dbfsResultPath": null,
       "isJsonSchema": true,
       "metadata": {},
       "overflow": false,
       "plotOptions": {
        "customPlotOptions": {},
        "displayType": "table",
        "pivotAggregation": null,
        "pivotColumns": null,
        "xColumns": null,
        "yColumns": null
       },
       "removedWidgets": [],
       "schema": [
        {
         "metadata": "{}",
         "name": "Country name",
         "type": "\"string\""
        },
        {
         "metadata": "{}",
         "name": "year",
         "type": "\"integer\""
        },
        {
         "metadata": "{}",
         "name": "Life Ladder",
         "type": "\"double\""
        },
        {
         "metadata": "{}",
         "name": "Log GDP per capita",
         "type": "\"double\""
        },
        {
         "metadata": "{}",
         "name": "Social support",
         "type": "\"double\""
        },
        {
         "metadata": "{}",
         "name": "Healthy life expectancy at birth",
         "type": "\"double\""
        },
        {
         "metadata": "{}",
         "name": "Freedom to make life choices",
         "type": "\"double\""
        },
        {
         "metadata": "{}",
         "name": "Generosity",
         "type": "\"double\""
        },
        {
         "metadata": "{}",
         "name": "Perceptions of corruption",
         "type": "\"double\""
        },
        {
         "metadata": "{}",
         "name": "Positive affect",
         "type": "\"double\""
        },
        {
         "metadata": "{}",
         "name": "Negative affect",
         "type": "\"double\""
        }
       ],
       "type": "table"
      }
     },
     "output_type": "display_data"
    }
   ],
   "source": [
    "from pyspark.sql import SparkSession\n",
    "from pyspark.sql.functions import col, max, avg, count, when, rank\n",
    "from pyspark.sql.window import Window\n",
    "\n",
    "# Iniciar la sesión de Spark\n",
    "spark = SparkSession.builder \\\n",
    "    .appName(\"Proyecto de felicidad mundial - Big Data Processing - Bootcamp Big Data, IA y ML\") \\\n",
    "    .getOrCreate()\n",
    "\n",
    "# Cargar los datos\n",
    "file_location = \"/FileStore/tables/world_happiness_report_2021-1.csv\"\n",
    "file_type = \"csv\"\n",
    "infer_schema = \"true\"\n",
    "first_row_is_header = \"true\"\n",
    "delimiter = \",\"\n",
    "\n",
    "df_2021 = spark.read.format(file_type) \\\n",
    "  .option(\"inferSchema\", infer_schema) \\\n",
    "  .option(\"header\", first_row_is_header) \\\n",
    "  .option(\"sep\", delimiter) \\\n",
    "  .load(file_location)\n",
    "\n",
    "display(df_2021.limit(5))\n",
    "\n",
    "file_location = \"/FileStore/tables/world_happiness_report.csv\"\n",
    "\n",
    "df_historical = spark.read.format(file_type) \\\n",
    "  .option(\"inferSchema\", infer_schema) \\\n",
    "  .option(\"header\", first_row_is_header) \\\n",
    "  .option(\"sep\", delimiter) \\\n",
    "  .load(file_location)\n",
    "\n",
    "display(df_historical.limit(5))\n"
   ]
  },
  {
   "cell_type": "code",
   "execution_count": 0,
   "metadata": {
    "application/vnd.databricks.v1+cell": {
     "cellMetadata": {
      "byteLimit": 2048000,
      "rowLimit": 10000
     },
     "inputWidgets": {},
     "nuid": "ed6d61c8-e4df-4282-bd5d-c2e8079a356c",
     "showTitle": false,
     "title": ""
    }
   },
   "outputs": [
    {
     "output_type": "stream",
     "name": "stdout",
     "output_type": "stream",
     "text": [
      "El país más feliz del 2021 fue: Finland con un puntaje de felicidad de 7.842\n"
     ]
    }
   ],
   "source": [
    "# EJERCICIO 1: Buscar el país más feliz del 2021\n",
    "\n",
    "happiest_country_2021 = df_2021.select(\"Country name\", \"Ladder score\")\\\n",
    "    .orderBy(col(\"Ladder score\").desc())\\\n",
    "    .first()\n",
    "\n",
    "print(f'El país más feliz del 2021 fue: {happiest_country_2021[\"Country name\"]} con un puntaje de felicidad de {happiest_country_2021[\"Ladder score\"]}')\n"
   ]
  },
  {
   "cell_type": "code",
   "execution_count": 0,
   "metadata": {
    "application/vnd.databricks.v1+cell": {
     "cellMetadata": {
      "byteLimit": 2048000,
      "rowLimit": 10000
     },
     "inputWidgets": {},
     "nuid": "d951c959-cc7f-41a4-bd78-9881469714fd",
     "showTitle": false,
     "title": ""
    }
   },
   "outputs": [
    {
     "output_type": "stream",
     "name": "stdout",
     "output_type": "stream",
     "text": [
      "+--------------------+--------------------+------------+\n|  Regional indicator|        Country name|Ladder score|\n+--------------------+--------------------+------------+\n|      Western Europe|             Finland|       7.842|\n|North America and...|         New Zealand|       7.277|\n|Middle East and N...|              Israel|       7.157|\n|Latin America and...|          Costa Rica|       7.069|\n|Central and Easte...|      Czech Republic|       6.965|\n|           East Asia|Taiwan Province o...|       6.584|\n|      Southeast Asia|           Singapore|       6.377|\n|Commonwealth of I...|          Uzbekistan|       6.179|\n|  Sub-Saharan Africa|           Mauritius|       6.049|\n|          South Asia|               Nepal|       5.269|\n+--------------------+--------------------+------------+\n\n"
     ]
    }
   ],
   "source": [
    "# EJERCICIO 2: Agrupar por continente (Regional indicator) y encontrar el país más feliz en cada uno\n",
    "\n",
    "happiest_country_by_continent_2021 = df_2021.alias(\"r2021\").groupBy(\"r2021.Regional indicator\")\\\n",
    "    .agg(max(\"r2021.Ladder score\").alias(\"Max Ladder Score\"))\\\n",
    "    .join(df_2021.alias(\"r2021_join\"), (col(\"r2021_join.Ladder score\") == col(\"Max Ladder Score\")) & \\\n",
    "          (col(\"r2021_join.Regional indicator\") == col(\"r2021.Regional indicator\")))\\\n",
    "    .select(col(\"r2021_join.Regional indicator\"), \"r2021_join.Country name\", \"r2021_join.Ladder score\")\n",
    "\n",
    "\n",
    "happiest_country_by_continent_2021.show()\n"
   ]
  },
  {
   "cell_type": "code",
   "execution_count": 0,
   "metadata": {
    "application/vnd.databricks.v1+cell": {
     "cellMetadata": {
      "byteLimit": 2048000,
      "rowLimit": 10000
     },
     "inputWidgets": {},
     "nuid": "a5664155-1b91-45e3-b357-34d4788794e7",
     "showTitle": false,
     "title": ""
    }
   },
   "outputs": [
    {
     "output_type": "stream",
     "name": "stdout",
     "output_type": "stream",
     "text": [
      "+------------+-----+\n|Country name|count|\n+------------+-----+\n|     Denmark|    7|\n|     Finland|    6|\n|      Norway|    1|\n| Switzerland|    1|\n|      Canada|    1|\n+------------+-----+\n\nEl país que más veces ha ocupado el primer lugar es: Denmark, con 7 veces.\n"
     ]
    }
   ],
   "source": [
    "# EJERCICIO 3: Encontrar el país que más veces ocupó el primer lugar\n",
    "\n",
    "# Definimos un WindowSpec para particionar los datos por año y ordenarlos por la puntuación de Life Ladder en orden descendente\n",
    "windowSpec = Window.partitionBy(\"year\").orderBy(col(\"Life Ladder\").desc())\n",
    "\n",
    "# Usamos la función rank() para asignar un rango basado en la puntuación de Life Ladder dentro de cada año\n",
    "ranked = df_historical.withColumn(\"rank\", rank().over(windowSpec))\n",
    "\n",
    "# Filtramos para mantener solo las filas donde rank es 1 (los más felices cada año)\n",
    "top_countries_each_year = ranked.filter(col(\"rank\") == 1)\n",
    "\n",
    "most_happy_counts = top_countries_each_year.groupBy(\"Country name\").count().orderBy(col(\"count\").desc())\n",
    "most_happy_counts.show()\n",
    "\n",
    "top_country_record = most_happy_counts.first()  \n",
    "\n",
    "# Extraemos el nombre del país y el conteo del registro\n",
    "top_country_name = top_country_record[\"Country name\"]\n",
    "times_top = top_country_record[\"count\"]\n",
    "\n",
    "print(f'El país que más veces ha ocupado el primer lugar es: {top_country_name}, con {times_top} veces.')\n",
    "\n"
   ]
  },
  {
   "cell_type": "code",
   "execution_count": 0,
   "metadata": {
    "application/vnd.databricks.v1+cell": {
     "cellMetadata": {
      "byteLimit": 2048000,
      "rowLimit": 10000
     },
     "inputWidgets": {},
     "nuid": "ca8d72dd-0191-4f3c-bf68-cfd141795f03",
     "showTitle": false,
     "title": ""
    }
   },
   "outputs": [
    {
     "output_type": "stream",
     "name": "stdout",
     "output_type": "stream",
     "text": [
      "El país con el mayor GDP en 2020 fue: Ireland, y su puesto de felicidad en 2021 fue el: 7\n"
     ]
    }
   ],
   "source": [
    "# EJERCICIO 4: Encontrar el país con el mayor GDP en 2020\n",
    "\n",
    "country_with_highest_gdp_2020 = df_historical.filter(df_historical[\"year\"] == 2020)\\\n",
    "    .orderBy(col(\"Log GDP per capita\").desc())\\\n",
    "    .first()\n",
    "\n",
    "happiness_rank_2021 = df_2021.filter(df_2021[\"Country name\"] == country_with_highest_gdp_2020[\"Country name\"])\\\n",
    "    .select(\"Country name\", \"Ladder score\")\\\n",
    "    .first()\n",
    "\n",
    "print(f'El país con el mayor GDP en 2020 fue: {country_with_highest_gdp_2020[\"Country name\"]}, y su puesto de felicidad en 2021 fue el: {round(float(happiness_rank_2021[\"Ladder score\"]))}')\n"
   ]
  },
  {
   "cell_type": "code",
   "execution_count": 0,
   "metadata": {
    "application/vnd.databricks.v1+cell": {
     "cellMetadata": {
      "byteLimit": 2048000,
      "rowLimit": 10000
     },
     "inputWidgets": {},
     "nuid": "90bdb171-fb24-4887-9821-2cbdb84fe269",
     "showTitle": false,
     "title": ""
    }
   },
   "outputs": [
    {
     "output_type": "stream",
     "name": "stdout",
     "output_type": "stream",
     "text": [
      "El GDP promedio mundial ha experimentado una disminución de -3.27% de 2020 a 2021.\n"
     ]
    }
   ],
   "source": [
    "# EJERCICIO 5: Calcular el GDP promedio mundial para 2020 y 2021\n",
    "\n",
    "avg_gdp_2020 = df_historical.filter(df_historical[\"year\"] == 2020)\\\n",
    "    .agg(avg(\"Log GDP per capita\").alias(\"AvgGDP 2020\")).first()\n",
    "\n",
    "avg_gdp_2021 = df_2021.agg(avg(\"Logged GDP per capita\").alias(\"Avg GDP 2021\")).first()\n",
    "\n",
    "percentage_change = ((avg_gdp_2021[\"Avg GDP 2021\"] - avg_gdp_2020[\"AvgGDP 2020\"]) / avg_gdp_2020[\"AvgGDP 2020\"]) * 100\n",
    "\n",
    "change_description = \"un aumento\" if percentage_change > 0 else \"una disminución\"\n",
    "percentage_change_gdp_rounded = round(percentage_change, 2)\n",
    "\n",
    "print(f'El GDP promedio mundial ha experimentado {change_description} de {percentage_change_gdp_rounded}% de 2020 a 2021.')\n"
   ]
  },
  {
   "cell_type": "code",
   "execution_count": 0,
   "metadata": {
    "application/vnd.databricks.v1+cell": {
     "cellMetadata": {
      "byteLimit": 2048000,
      "rowLimit": 10000
     },
     "inputWidgets": {},
     "nuid": "0faafac9-ec53-42ca-97b3-fd4f8dd310d8",
     "showTitle": false,
     "title": ""
    }
   },
   "outputs": [
    {
     "output_type": "stream",
     "name": "stdout",
     "output_type": "stream",
     "text": [
      "El país con la mayor expectativa de vida es: Singapore con 77.0 años. En 2019, tenía una expectativa de vida de 77.1 años.\n+------------+-----------------------+\n|Country name|Average Life Expectancy|\n+------------+-----------------------+\n|   Singapore|                  76.65|\n+------------+-----------------------+\n\nEl país con la mayor expectativa de vida en promedio durante los últimos 5 años es: Singapore con un promedio de 76.7 años.\n"
     ]
    }
   ],
   "source": [
    "# EJERCICIO 6: Identificar el país con la mayor expectativa de vida en 2021, su valor en 2019, y el promedio en los últimso 5 años\n",
    "\n",
    "country_with_highest_life_expectancy_2021 = df_2021.orderBy(col(\"Healthy life expectancy\").desc()).first()\n",
    "\n",
    "# Buscamos la expectativa de vida de ese país en 2019\n",
    "life_expectancy_2019 = df_historical.filter((df_historical[\"Country name\"] == country_with_highest_life_expectancy_2021[\"Country name\"]) & (df_historical[\"year\"] == 2019))\\\n",
    "    .select(\"Country name\", \"Healthy life expectancy at birth\").first()\n",
    "\n",
    "print(f'El país con la mayor expectativa de vida es: {country_with_highest_life_expectancy_2021[\"Country name\"]} con {round(float(country_with_highest_life_expectancy_2021[\"Healthy life expectancy\"]),1)} años. En 2019, tenía una expectativa de vida de {round(float(life_expectancy_2019[\"Healthy life expectancy at birth\"]),1)} años.')\n",
    "\n",
    "# Filtramos los datos para incluir los últimos 5 años\n",
    "max_year = df_historical.agg(max(col(\"year\")).cast(\"int\")).first()[0]\n",
    "filtered_data = df_historical.filter(col(\"year\") > max_year - 5)\n",
    "\n",
    "# Calculamos el promedio de la expectativa de vida saludable ('Healthy life expectancy at birth') para cada país\n",
    "average_expectancy = filtered_data.groupBy(\"Country name\").agg(avg(\"Healthy life expectancy at birth\").alias(\"Average Life Expectancy\"))\n",
    "highest_expectancy_country = average_expectancy.orderBy(col(\"Average Life Expectancy\").desc()).first()\n",
    "\n",
    "average_expectancy.orderBy(col(\"Average Life Expectancy\").desc()).limit(1).show()\n",
    "\n",
    "print(f'El país con la mayor expectativa de vida en promedio durante los últimos 5 años es: {highest_expectancy_country[\"Country name\"]} con un promedio de {highest_expectancy_country[\"Average Life Expectancy\"]:.1f} años.')\n",
    "\n"
   ]
  },
  {
   "cell_type": "code",
   "execution_count": 0,
   "metadata": {
    "application/vnd.databricks.v1+cell": {
     "cellMetadata": {
      "byteLimit": 2048000,
      "rowLimit": 10000
     },
     "inputWidgets": {},
     "nuid": "5eb88b0f-1046-4d99-8186-36915dde874d",
     "showTitle": false,
     "title": ""
    }
   },
   "outputs": [],
   "source": []
  }
 ],
 "metadata": {
  "application/vnd.databricks.v1+notebook": {
   "dashboards": [],
   "language": "python",
   "notebookMetadata": {
    "pythonIndentUnit": 4
   },
   "notebookName": "Proyecto_Bootcamp pySpark",
   "widgets": {}
  }
 },
 "nbformat": 4,
 "nbformat_minor": 0
}
